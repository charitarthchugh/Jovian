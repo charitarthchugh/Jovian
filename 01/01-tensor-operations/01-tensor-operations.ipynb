{
 "cells": [
  {
   "cell_type": "markdown",
   "metadata": {},
   "source": [
    "# Py <img src=\"https://img.icons8.com/officel/64/000000/olympic-torch.png\"/> 's nifty features\n",
    "\n",
    "### Nifty features for beginners like me!\n",
    "\n",
    "PyTorch is a machine learning library that is (accoring to Akaash) really easy to learn and this notebook contains commands that can  be helpful while learning.\n",
    "- torch.randin\n",
    "- torch.rand\n",
    "- torch.device\n",
    "- torch.set_default_dtype\n",
    "- torch.get_default_dtyoe"
   ]
  },
  {
   "cell_type": "code",
   "execution_count": 4,
   "metadata": {},
   "outputs": [],
   "source": [
    "# Install Torch and other modules(using pip)\n",
    "#!pip3 install torch==1.5.0+cpu torchvision==0.6.0+cpu -f https://download.pytorch.org/whl/torch_stable.html\n",
    "# Import torch and other required modules\n",
    "import torch"
   ]
  },
  {
   "cell_type": "markdown",
   "metadata": {},
   "source": [
    "## torch.randint()\n",
    "This is a function that creates a tensor that is filled with random integers.All you have to do is define this lower and upper bound of the range and the size of the tensor. "
   ]
  },
  {
   "cell_type": "code",
   "execution_count": 5,
   "metadata": {},
   "outputs": [
    {
     "output_type": "stream",
     "name": "stdout",
     "text": "tensor([[98, 95],\n        [83, 78]])\ntorch.int64\n"
    }
   ],
   "source": [
    "# Example \n",
    "variable=torch.randint(0,100,(2,2),)\n",
    "print(variable)\n",
    "print(variable.dtype)"
   ]
  },
  {
   "cell_type": "markdown",
   "metadata": {},
   "source": [
    "This will create a 2x2 tensor that will have random values between 0 & 100."
   ]
  },
  {
   "cell_type": "code",
   "execution_count": 6,
   "metadata": {},
   "outputs": [
    {
     "output_type": "execute_result",
     "data": {
      "text/plain": "tensor([[88]])"
     },
     "metadata": {},
     "execution_count": 6
    }
   ],
   "source": [
    "x=torch.randint(100,(1,1))\n",
    "x"
   ]
  },
  {
   "cell_type": "markdown",
   "metadata": {},
   "source": [
    "This will create a tensor with only one value. Shorthand-  only defining high means that the range will be from 0(inclusive) to high(non-inclusive)."
   ]
  },
  {
   "cell_type": "markdown",
   "metadata": {},
   "source": [
    "This function makes it easy to gnereate data when only dealing with integer values."
   ]
  },
  {
   "cell_type": "markdown",
   "metadata": {},
   "source": [
    "## torch.rand\n",
    "Makes it easy to generate decimal tensors."
   ]
  },
  {
   "cell_type": "code",
   "execution_count": 7,
   "metadata": {},
   "outputs": [
    {
     "output_type": "execute_result",
     "data": {
      "text/plain": "tensor([[0.4161, 0.1112],\n        [0.8907, 0.2660]])"
     },
     "metadata": {},
     "execution_count": 7
    }
   ],
   "source": [
    "#Example  1\n",
    "exRand=torch.rand(2,2,)\n",
    "exRand"
   ]
  },
  {
   "cell_type": "markdown",
   "metadata": {},
   "source": [
    "This will create the variable `exRand` with a dtype  of (2,2). Unlike `tensor.randint` where you have to define bounds and size, here you only need to define size as the range is fixed between 0 and 1"
   ]
  },
  {
   "cell_type": "markdown",
   "metadata": {},
   "source": [
    "Breakage- how you would break a regular function."
   ]
  },
  {
   "cell_type": "markdown",
   "metadata": {},
   "source": [
    "## torch.device\n",
    "This makes it easy to set the device a workload run on, especially when the workload can de distibuted."
   ]
  },
  {
   "cell_type": "code",
   "execution_count": 8,
   "metadata": {},
   "outputs": [
    {
     "output_type": "error",
     "ename": "RuntimeError",
     "evalue": "Unknown device type",
     "traceback": [
      "\u001b[0;31m---------------------------------------------------------------------------\u001b[0m",
      "\u001b[0;31mRuntimeError\u001b[0m                              Traceback (most recent call last)",
      "\u001b[0;32m<ipython-input-8-21a365a8b173>\u001b[0m in \u001b[0;36m<module>\u001b[0;34m\u001b[0m\n\u001b[0;32m----> 1\u001b[0;31m \u001b[0mx\u001b[0m\u001b[0;34m=\u001b[0m\u001b[0mtorch\u001b[0m\u001b[0;34m.\u001b[0m\u001b[0mtensor\u001b[0m\u001b[0;34m(\u001b[0m\u001b[0;34m[\u001b[0m\u001b[0;36m2\u001b[0m\u001b[0;34m,\u001b[0m\u001b[0;36m2\u001b[0m\u001b[0;34m]\u001b[0m\u001b[0;34m,\u001b[0m\u001b[0mdevice\u001b[0m\u001b[0;34m=\u001b[0m\u001b[0mtorch\u001b[0m\u001b[0;34m.\u001b[0m\u001b[0mdevice\u001b[0m\u001b[0;34m(\u001b[0m\u001b[0;34m\"opencl\"\u001b[0m\u001b[0;34m)\u001b[0m\u001b[0;34m)\u001b[0m\u001b[0;34m\u001b[0m\u001b[0;34m\u001b[0m\u001b[0m\n\u001b[0m\u001b[1;32m      2\u001b[0m \u001b[0my\u001b[0m\u001b[0;34m=\u001b[0m\u001b[0mtorch\u001b[0m\u001b[0;34m.\u001b[0m\u001b[0mtensor\u001b[0m\u001b[0;34m(\u001b[0m\u001b[0;36m64\u001b[0m\u001b[0;34m,\u001b[0m\u001b[0mdevice\u001b[0m\u001b[0;34m=\u001b[0m\u001b[0mtorch\u001b[0m\u001b[0;34m.\u001b[0m\u001b[0mdevice\u001b[0m\u001b[0;34m(\u001b[0m\u001b[0;34m\"cpu\"\u001b[0m\u001b[0;34m)\u001b[0m\u001b[0;34m)\u001b[0m\u001b[0;34m\u001b[0m\u001b[0;34m\u001b[0m\u001b[0m\n",
      "\u001b[0;31mRuntimeError\u001b[0m: Unknown device type"
     ]
    }
   ],
   "source": [
    "x=torch.tensor([2,2],device=torch.device(\"opencl\"))\n",
    "y=torch.tensor(64,device=torch.device(\"cpu\"))"
   ]
  },
  {
   "cell_type": "markdown",
   "metadata": {},
   "source": [
    "This example allows the splitting of the workload of setiting variables(I know it is not a lot) between the CPU and GPU"
   ]
  },
  {
   "cell_type": "code",
   "execution_count": 9,
   "metadata": {},
   "outputs": [
    {
     "output_type": "stream",
     "name": "stdout",
     "text": "tensor([[0.8565, 0.0929, 0.0849, 0.0449, 0.4318],\n        [0.8825, 0.1779, 0.9275, 0.8265, 0.8575],\n        [0.1627, 0.8546, 0.1331, 0.3326, 0.0106],\n        [0.3199, 0.4527, 0.6805, 0.5143, 0.7702],\n        [0.7916, 0.7808, 0.0562, 0.9405, 0.9606],\n        [0.2017, 0.3221, 0.8636, 0.1459, 0.9821],\n        [0.7241, 0.0272, 0.2199, 0.8623, 0.5089],\n        [0.0706, 0.4975, 0.9425, 0.2352, 0.2214],\n        [0.4398, 0.9135, 0.4286, 0.9124, 0.2970],\n        [0.0271, 0.3626, 0.2397, 0.8993, 0.9710],\n        [0.2877, 0.0062, 0.8659, 0.2818, 0.7314],\n        [0.5901, 0.1829, 0.5442, 0.6905, 0.1259],\n        [0.3730, 0.4185, 0.3691, 0.7199, 0.1676],\n        [0.8761, 0.3521, 0.2423, 0.4345, 0.9179],\n        [0.3732, 0.1929, 0.6609, 0.9573, 0.3858],\n        [0.1261, 0.8841, 0.0240, 0.8538, 0.3983],\n        [0.6285, 0.1921, 0.6312, 0.6876, 0.7981],\n        [0.0418, 0.5002, 0.4993, 0.2673, 0.1363],\n        [0.7098, 0.1342, 0.4372, 0.6597, 0.2816],\n        [0.3744, 0.4372, 0.8668, 0.8017, 0.6141],\n        [0.7533, 0.1139, 0.2988, 0.0536, 0.4164],\n        [0.8261, 0.0920, 0.1720, 0.6216, 0.2581],\n        [0.8857, 0.0220, 0.5339, 0.6206, 0.2698],\n        [0.2075, 0.6654, 0.3922, 0.4739, 0.4981],\n        [0.1137, 0.6972, 0.1796, 0.9483, 0.6035],\n        [0.8530, 0.2424, 0.6693, 0.1779, 0.0535],\n        [0.6355, 0.4764, 0.9808, 0.3328, 0.1930],\n        [0.3465, 0.3801, 0.8721, 0.1470, 0.2836],\n        [0.7341, 0.7064, 0.2570, 0.3550, 0.9637],\n        [0.1050, 0.1039, 0.9303, 0.4328, 0.6423],\n        [0.9620, 0.1324, 0.9529, 0.7808, 0.5069],\n        [0.5557, 0.3024, 0.9113, 0.9403, 0.3582],\n        [0.6176, 0.4423, 0.6023, 0.9149, 0.8914],\n        [0.7748, 0.3061, 0.9470, 0.3467, 0.1282],\n        [0.3331, 0.7003, 0.1299, 0.8438, 0.5569],\n        [0.5075, 0.6186, 0.4164, 0.3687, 0.7031],\n        [0.2991, 0.9970, 0.6027, 0.2310, 0.2383],\n        [0.1878, 0.2419, 0.3851, 0.0152, 0.2474],\n        [0.8245, 0.6516, 0.4103, 0.7257, 0.3796],\n        [0.9655, 0.4675, 0.8239, 0.7856, 0.4233],\n        [0.6525, 0.8252, 0.0946, 0.0728, 0.1115],\n        [0.4025, 0.6178, 0.1042, 0.8524, 0.3464],\n        [0.9640, 0.1174, 0.1584, 0.2610, 0.4656],\n        [0.3354, 0.8362, 0.8172, 0.1827, 0.5768],\n        [0.0483, 0.3286, 0.6293, 0.4000, 0.3263],\n        [0.7542, 0.3285, 0.2036, 0.2433, 0.7779],\n        [0.9949, 0.3717, 0.2136, 0.2507, 0.4822],\n        [0.9925, 0.9696, 0.7160, 0.1832, 0.8694],\n        [0.9974, 0.6464, 0.1503, 0.5388, 0.3527],\n        [0.0527, 0.8886, 0.4170, 0.9823, 0.0141],\n        [0.4981, 0.5956, 0.2207, 0.2619, 0.2003],\n        [0.4374, 0.3667, 0.4919, 0.3032, 0.4784],\n        [0.4412, 0.6162, 0.3503, 0.4398, 0.5180],\n        [0.0375, 0.8537, 0.3623, 0.0423, 0.6262],\n        [0.0180, 0.7559, 0.4076, 0.5125, 0.3187],\n        [0.2172, 0.5862, 0.0331, 0.7888, 0.0756],\n        [0.5961, 0.6997, 0.6621, 0.0565, 0.4429],\n        [0.0913, 0.9888, 0.9616, 0.5910, 0.3692],\n        [0.7155, 0.4110, 0.2588, 0.1580, 0.0594],\n        [0.9862, 0.5848, 0.4583, 0.7907, 0.0311],\n        [0.5383, 0.5020, 0.2285, 0.3132, 0.8484],\n        [0.4237, 0.9230, 0.5178, 0.6934, 0.0441],\n        [0.2248, 0.1911, 0.9751, 0.6305, 0.7156],\n        [0.8196, 0.8045, 0.4156, 0.0740, 0.2334]])\ntorch.float32\n"
    }
   ],
   "source": [
    "cpu=torch.device(\"cpu\")\n",
    "gpu=torch.device(\"cuda\")\n",
    "dtype=torch.float32\n",
    "exampleDeviceTensor = torch.rand(64,5, device=cpu, dtype=dtype)\n",
    "print(exampleDeviceTensor)\n",
    "print(exampleDeviceTensor.dtype)"
   ]
  },
  {
   "cell_type": "markdown",
   "metadata": {},
   "source": [
    "This **will** break when you don't have a compatible  graphics card."
   ]
  },
  {
   "cell_type": "code",
   "execution_count": 10,
   "metadata": {},
   "outputs": [
    {
     "output_type": "error",
     "ename": "AssertionError",
     "evalue": "Torch not compiled with CUDA enabled",
     "traceback": [
      "\u001b[0;31m---------------------------------------------------------------------------\u001b[0m",
      "\u001b[0;31mAssertionError\u001b[0m                            Traceback (most recent call last)",
      "\u001b[0;32m<ipython-input-10-46dc315b7051>\u001b[0m in \u001b[0;36m<module>\u001b[0;34m\u001b[0m\n\u001b[0;32m----> 1\u001b[0;31m \u001b[0mexampleDeviceTensor\u001b[0m \u001b[0;34m=\u001b[0m \u001b[0mtorch\u001b[0m\u001b[0;34m.\u001b[0m\u001b[0mrandn\u001b[0m\u001b[0;34m(\u001b[0m\u001b[0;36m64\u001b[0m\u001b[0;34m,\u001b[0m\u001b[0;36m5\u001b[0m\u001b[0;34m,\u001b[0m \u001b[0mdevice\u001b[0m\u001b[0;34m=\u001b[0m\u001b[0mgpu\u001b[0m\u001b[0;34m,\u001b[0m \u001b[0mdtype\u001b[0m\u001b[0;34m=\u001b[0m\u001b[0mdtype\u001b[0m\u001b[0;34m)\u001b[0m\u001b[0;34m\u001b[0m\u001b[0;34m\u001b[0m\u001b[0m\n\u001b[0m",
      "\u001b[0;32m~/.local/lib/python3.8/site-packages/torch/cuda/__init__.py\u001b[0m in \u001b[0;36m_lazy_init\u001b[0;34m()\u001b[0m\n\u001b[1;32m    147\u001b[0m             raise RuntimeError(\n\u001b[1;32m    148\u001b[0m                 \"Cannot re-initialize CUDA in forked subprocess. \" + msg)\n\u001b[0;32m--> 149\u001b[0;31m         \u001b[0m_check_driver\u001b[0m\u001b[0;34m(\u001b[0m\u001b[0;34m)\u001b[0m\u001b[0;34m\u001b[0m\u001b[0;34m\u001b[0m\u001b[0m\n\u001b[0m\u001b[1;32m    150\u001b[0m         \u001b[0;32mif\u001b[0m \u001b[0m_cudart\u001b[0m \u001b[0;32mis\u001b[0m \u001b[0;32mNone\u001b[0m\u001b[0;34m:\u001b[0m\u001b[0;34m\u001b[0m\u001b[0;34m\u001b[0m\u001b[0m\n\u001b[1;32m    151\u001b[0m             raise AssertionError(\n",
      "\u001b[0;32m~/.local/lib/python3.8/site-packages/torch/cuda/__init__.py\u001b[0m in \u001b[0;36m_check_driver\u001b[0;34m()\u001b[0m\n\u001b[1;32m     45\u001b[0m \u001b[0;32mdef\u001b[0m \u001b[0m_check_driver\u001b[0m\u001b[0;34m(\u001b[0m\u001b[0;34m)\u001b[0m\u001b[0;34m:\u001b[0m\u001b[0;34m\u001b[0m\u001b[0;34m\u001b[0m\u001b[0m\n\u001b[1;32m     46\u001b[0m     \u001b[0;32mif\u001b[0m \u001b[0;32mnot\u001b[0m \u001b[0mhasattr\u001b[0m\u001b[0;34m(\u001b[0m\u001b[0mtorch\u001b[0m\u001b[0;34m.\u001b[0m\u001b[0m_C\u001b[0m\u001b[0;34m,\u001b[0m \u001b[0;34m'_cuda_isDriverSufficient'\u001b[0m\u001b[0;34m)\u001b[0m\u001b[0;34m:\u001b[0m\u001b[0;34m\u001b[0m\u001b[0;34m\u001b[0m\u001b[0m\n\u001b[0;32m---> 47\u001b[0;31m         \u001b[0;32mraise\u001b[0m \u001b[0mAssertionError\u001b[0m\u001b[0;34m(\u001b[0m\u001b[0;34m\"Torch not compiled with CUDA enabled\"\u001b[0m\u001b[0;34m)\u001b[0m\u001b[0;34m\u001b[0m\u001b[0;34m\u001b[0m\u001b[0m\n\u001b[0m\u001b[1;32m     48\u001b[0m     \u001b[0;32mif\u001b[0m \u001b[0;32mnot\u001b[0m \u001b[0mtorch\u001b[0m\u001b[0;34m.\u001b[0m\u001b[0m_C\u001b[0m\u001b[0;34m.\u001b[0m\u001b[0m_cuda_isDriverSufficient\u001b[0m\u001b[0;34m(\u001b[0m\u001b[0;34m)\u001b[0m\u001b[0;34m:\u001b[0m\u001b[0;34m\u001b[0m\u001b[0;34m\u001b[0m\u001b[0m\n\u001b[1;32m     49\u001b[0m         \u001b[0;32mif\u001b[0m \u001b[0mtorch\u001b[0m\u001b[0;34m.\u001b[0m\u001b[0m_C\u001b[0m\u001b[0;34m.\u001b[0m\u001b[0m_cuda_getDriverVersion\u001b[0m\u001b[0;34m(\u001b[0m\u001b[0;34m)\u001b[0m \u001b[0;34m==\u001b[0m \u001b[0;36m0\u001b[0m\u001b[0;34m:\u001b[0m\u001b[0;34m\u001b[0m\u001b[0;34m\u001b[0m\u001b[0m\n",
      "\u001b[0;31mAssertionError\u001b[0m: Torch not compiled with CUDA enabled"
     ]
    }
   ],
   "source": [
    "exampleDeviceTensor = torch.randn(64,5, device=gpu, dtype=dtype)"
   ]
  },
  {
   "cell_type": "markdown",
   "metadata": {},
   "source": [
    "I find this really nice, as you can just set it as a variable and apply the variable as needed depending on hardware configuration."
   ]
  },
  {
   "cell_type": "markdown",
   "metadata": {},
   "source": [
    "## torch.set_default_dtype\n",
    "Sets the default data type for all new tensors."
   ]
  },
  {
   "cell_type": "code",
   "execution_count": 11,
   "metadata": {},
   "outputs": [
    {
     "output_type": "execute_result",
     "data": {
      "text/plain": "torch.float64"
     },
     "metadata": {},
     "execution_count": 11
    }
   ],
   "source": [
    "before1=torch.tensor(2.3,dtype=torch.float64)\n",
    "before1=torch.tensor(3.141519,dtype=torch.float64)\n",
    "torch.set_default_dtype(torch.float64)\n",
    "after1=torch.tensor(2.3)\n",
    "after1.dtype"
   ]
  },
  {
   "cell_type": "markdown",
   "metadata": {},
   "source": [
    "Instead of setting the type manually each time, set a different deafult dtype and change others as needed."
   ]
  },
  {
   "cell_type": "code",
   "execution_count": 12,
   "metadata": {},
   "outputs": [
    {
     "output_type": "error",
     "ename": "TypeError",
     "evalue": "only floating-point types are supported as the default type",
     "traceback": [
      "\u001b[0;31m---------------------------------------------------------------------------\u001b[0m",
      "\u001b[0;31mTypeError\u001b[0m                                 Traceback (most recent call last)",
      "\u001b[0;32m<ipython-input-12-40d626203a5f>\u001b[0m in \u001b[0;36m<module>\u001b[0;34m\u001b[0m\n\u001b[0;32m----> 1\u001b[0;31m \u001b[0mtorch\u001b[0m\u001b[0;34m.\u001b[0m\u001b[0mset_default_dtype\u001b[0m\u001b[0;34m(\u001b[0m\u001b[0mtorch\u001b[0m\u001b[0;34m.\u001b[0m\u001b[0mint64\u001b[0m\u001b[0;34m)\u001b[0m\u001b[0;34m\u001b[0m\u001b[0;34m\u001b[0m\u001b[0m\n\u001b[0m\u001b[1;32m      2\u001b[0m \u001b[0mtorch\u001b[0m\u001b[0;34m.\u001b[0m\u001b[0mset_default_dtype\u001b[0m\u001b[0;34m(\u001b[0m\u001b[0mtorch\u001b[0m\u001b[0;34m.\u001b[0m\u001b[0mfloat32\u001b[0m\u001b[0;34m)\u001b[0m\u001b[0;34m\u001b[0m\u001b[0;34m\u001b[0m\u001b[0m\n",
      "\u001b[0;32m~/.local/lib/python3.8/site-packages/torch/__init__.py\u001b[0m in \u001b[0;36mset_default_dtype\u001b[0;34m(d)\u001b[0m\n\u001b[1;32m    226\u001b[0m \u001b[0;34m\u001b[0m\u001b[0m\n\u001b[1;32m    227\u001b[0m     \"\"\"\n\u001b[0;32m--> 228\u001b[0;31m     \u001b[0m_C\u001b[0m\u001b[0;34m.\u001b[0m\u001b[0m_set_default_dtype\u001b[0m\u001b[0;34m(\u001b[0m\u001b[0md\u001b[0m\u001b[0;34m)\u001b[0m\u001b[0;34m\u001b[0m\u001b[0;34m\u001b[0m\u001b[0m\n\u001b[0m\u001b[1;32m    229\u001b[0m \u001b[0;34m\u001b[0m\u001b[0m\n\u001b[1;32m    230\u001b[0m \u001b[0;31m# If you edit these imports, please update torch/__init__.py.in as well\u001b[0m\u001b[0;34m\u001b[0m\u001b[0;34m\u001b[0m\u001b[0;34m\u001b[0m\u001b[0m\n",
      "\u001b[0;31mTypeError\u001b[0m: only floating-point types are supported as the default type"
     ]
    }
   ],
   "source": [
    "torch.set_default_dtype(torch.int64)\n",
    "torch.set_default_dtype(torch.float32)"
   ]
  },
  {
   "cell_type": "markdown",
   "metadata": {},
   "source": [
    "Some of the dtypes available.(float32 is default)"
   ]
  },
  {
   "cell_type": "code",
   "execution_count": 13,
   "metadata": {},
   "outputs": [
    {
     "output_type": "error",
     "ename": "NameError",
     "evalue": "name 'int32' is not defined",
     "traceback": [
      "\u001b[0;31m---------------------------------------------------------------------------\u001b[0m",
      "\u001b[0;31mNameError\u001b[0m                                 Traceback (most recent call last)",
      "\u001b[0;32m<ipython-input-13-fbfbd271a1ba>\u001b[0m in \u001b[0;36m<module>\u001b[0;34m\u001b[0m\n\u001b[1;32m      1\u001b[0m \u001b[0;31m# Example 3 - breaking (to illustrate when it breaks)\u001b[0m\u001b[0;34m\u001b[0m\u001b[0;34m\u001b[0m\u001b[0;34m\u001b[0m\u001b[0m\n\u001b[0;32m----> 2\u001b[0;31m \u001b[0mtorch\u001b[0m\u001b[0;34m.\u001b[0m\u001b[0mset_default_dtype\u001b[0m\u001b[0;34m(\u001b[0m\u001b[0mint32\u001b[0m\u001b[0;34m)\u001b[0m\u001b[0;34m\u001b[0m\u001b[0;34m\u001b[0m\u001b[0m\n\u001b[0m",
      "\u001b[0;31mNameError\u001b[0m: name 'int32' is not defined"
     ]
    }
   ],
   "source": [
    "# Example 3 - breaking (to illustrate when it breaks)\n",
    "torch.set_default_dtype(int32)"
   ]
  },
  {
   "cell_type": "markdown",
   "metadata": {},
   "source": [
    "Just don't forget to do torch.[dtype], not just the dtype itself"
   ]
  },
  {
   "cell_type": "markdown",
   "metadata": {},
   "source": [
    "Handy when you already know the datatype for the model. I would recommend that it should be deined at the start of the funtion and not changed often(makes a harder read)"
   ]
  },
  {
   "cell_type": "markdown",
   "metadata": {},
   "source": [
    "## torch.empty\n",
    "Generate blank tensors!"
   ]
  },
  {
   "cell_type": "code",
   "execution_count": 14,
   "metadata": {},
   "outputs": [
    {
     "output_type": "stream",
     "name": "stdout",
     "text": "tensor([[0.5688, 0.4185, 0.9610, 0.2012, 0.2568],\n        [0.3763, 0.7459, 0.1615, 0.4732, 0.9705],\n        [0.3049, 0.6540, 0.7104, 0.7375, 0.7971],\n        [0.8616, 0.1783, 0.9092, 0.7025, 0.3565],\n        [0.1676, 0.5751, 0.5586, 0.6405, 0.4409],\n        [0.5301, 0.9040, 0.6713, 0.5315, 0.9289],\n        [0.5358, 0.0139, 0.8581, 0.3591, 0.9962],\n        [0.4570, 0.7147, 0.9151, 0.5119, 0.7621],\n        [0.6426, 0.6709, 0.5946, 0.6951, 0.7664],\n        [0.9177, 0.6028, 0.0797, 0.8435, 0.8044],\n        [0.6811, 0.3764, 0.9063, 0.3905, 0.5328],\n        [0.3256, 0.7304, 0.2361, 0.7386, 0.4042],\n        [0.8457, 0.7612, 0.8361, 0.4281, 0.9700],\n        [0.0814, 0.8485, 0.7536, 0.3545, 0.7375],\n        [0.6571, 0.4044, 0.2198, 0.0438, 0.2349],\n        [0.0879, 0.9232, 0.3923, 0.8138, 0.1040],\n        [0.0666, 0.7938, 0.9507, 0.5446, 0.8988],\n        [0.2631, 0.9771, 0.4614, 0.0081, 0.9538],\n        [0.7693, 0.0612, 0.0274, 0.6614, 0.6241],\n        [0.5723, 0.0991, 0.7895, 0.8838, 0.0203],\n        [0.4213, 0.0498, 0.2783, 0.6630, 0.1847],\n        [0.5571, 0.8799, 0.2961, 0.3740, 0.4875],\n        [0.3824, 0.4032, 0.9339, 0.0817, 0.0922],\n        [0.7143, 0.7235, 0.0209, 0.4255, 0.3016],\n        [0.9559, 0.4436, 0.0428, 0.1569, 0.7319],\n        [0.2030, 0.6784, 0.5340, 0.7156, 0.9367],\n        [0.4389, 0.0695, 0.5311, 0.3232, 0.7707],\n        [0.0107, 0.3199, 0.6626, 0.8202, 0.9831],\n        [0.3307, 0.0251, 0.0040, 0.6497, 0.9196],\n        [0.6072, 0.1416, 0.2281, 0.1155, 0.0244],\n        [0.4432, 0.0757, 0.7476, 0.3352, 0.0325],\n        [0.7685, 0.1732, 0.1406, 0.7266, 0.3133],\n        [0.4822, 0.5603, 0.2541, 0.0917, 0.1393],\n        [0.8109, 0.3703, 0.5952, 0.1731, 0.4277],\n        [0.9997, 0.1636, 0.4608, 0.6698, 0.5162],\n        [0.8770, 0.4926, 0.0641, 0.7571, 0.9702],\n        [0.8501, 0.6365, 0.5037, 0.1136, 0.2524],\n        [0.2203, 0.4721, 0.3634, 0.0059, 0.9344],\n        [0.1305, 0.3445, 0.7749, 0.2474, 0.9316],\n        [0.8348, 0.9264, 0.0738, 0.8743, 0.8004],\n        [0.3690, 0.6088, 0.0167, 0.0708, 0.8890],\n        [0.8296, 0.2165, 0.5289, 0.0507, 0.0850],\n        [0.7897, 0.5898, 0.7131, 0.6085, 0.7067],\n        [0.9662, 0.2188, 0.1875, 0.0116, 0.3519],\n        [0.0836, 0.0664, 0.6272, 0.1363, 0.6451],\n        [0.1549, 0.1489, 0.3173, 0.5460, 0.0727],\n        [0.1853, 0.2182, 0.8945, 0.3010, 0.3723],\n        [0.8420, 0.3764, 0.2853, 0.4229, 0.7011],\n        [0.4981, 0.8585, 0.2202, 0.5274, 0.2278],\n        [0.8352, 0.6260, 0.9165, 0.9907, 0.7296],\n        [0.2009, 0.2356, 0.9407, 0.7942, 0.3310],\n        [0.2450, 0.8840, 0.9920, 0.9199, 0.6087],\n        [0.3994, 0.7431, 0.8989, 0.4820, 0.8655],\n        [0.9399, 0.8117, 0.5373, 0.0650, 0.9975],\n        [0.7905, 0.8713, 0.0072, 0.8802, 0.0201],\n        [0.9084, 0.7800, 0.0442, 0.1096, 0.4945],\n        [0.0970, 0.9643, 0.7051, 0.2512, 0.2697],\n        [0.4012, 0.1231, 0.9107, 0.9840, 0.8781],\n        [0.9113, 0.2505, 0.5733, 0.2254, 0.0790],\n        [0.3160, 0.3290, 0.8735, 0.7560, 0.6837],\n        [0.0551, 0.2814, 0.0212, 0.5629, 0.4386],\n        [0.7012, 0.2584, 0.2420, 0.8644, 0.7793],\n        [0.2162, 0.0669, 0.8599, 0.0903, 0.5454],\n        [0.3866, 0.1561, 0.0395, 0.1741, 0.4985]], dtype=torch.float32)\n"
    }
   ],
   "source": [
    "# Example 1 - working\n",
    "empty=torch.empty(3,4)\n",
    "empty"
   ]
  },
  {
   "cell_type": "markdown",
   "metadata": {},
   "source": [
    "Generates a tensor of size 3.4"
   ]
  },
  {
   "cell_type": "code",
   "execution_count": null,
   "metadata": {},
   "outputs": [],
   "source": [
    "Use this when you want to populate data later."
   ]
  },
  {
   "cell_type": "code",
   "execution_count": null,
   "metadata": {},
   "outputs": [],
   "source": [
    "## Conclusion\n",
    "\n",
    "This notebook covered basic pytorch functions. A good thing to check out would be [freecodecamp.org] and [youtube.com/channel/TwoMinutePapers]"
   ]
  },
  {
   "cell_type": "markdown",
   "metadata": {},
   "source": [
    "## Reference Links\n",
    "* Official documentation for `torch`: https://pytorch.org/docs/stable/torch.html"
   ]
  },
  {
   "cell_type": "code",
   "execution_count": 17,
   "metadata": {},
   "outputs": [],
   "source": [
    "!pip3 install jovian --upgrade --quiet"
   ]
  },
  {
   "cell_type": "code",
   "execution_count": 49,
   "metadata": {},
   "outputs": [
    {
     "output_type": "stream",
     "name": "stdout",
     "text": "[jovian] Uploading 1 notebook: 01-tensor-operations.ipynb\u001b[0m\n\n[jovian] Do you want to continue? [Y/n]:"
    }
   ],
   "source": [
    "!jovian commit 01-tensor-operations.ipynb"
   ]
  }
 ],
 "metadata": {
  "kernelspec": {
   "display_name": "Python 3.8.2 64-bit",
   "language": "python",
   "name": "python38264bitdf7b4e9e87934d8bb907ecd604185413"
  },
  "language_info": {
   "codemirror_mode": {
    "name": "ipython",
    "version": 3
   },
   "file_extension": ".py",
   "mimetype": "text/x-python",
   "name": "python",
   "nbconvert_exporter": "python",
   "pygments_lexer": "ipython3",
   "version": "3.8.2-final"
  }
 },
 "nbformat": 4,
 "nbformat_minor": 4
}